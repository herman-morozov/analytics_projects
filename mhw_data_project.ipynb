{
 "cells": [
  {
   "cell_type": "markdown",
   "id": "bdf35bab-e747-4228-b4c2-5874ee756902",
   "metadata": {},
   "source": [
    "Import libraries"
   ]
  },
  {
   "cell_type": "code",
   "execution_count": 1,
   "id": "868cb0f6-cd55-48d7-b1d1-05920a6117d0",
   "metadata": {},
   "outputs": [],
   "source": [
    "import requests\n",
    "import json\n",
    "import pandas as pd"
   ]
  },
  {
   "cell_type": "markdown",
   "id": "64eba0ab-5bdf-4a78-95ca-229e26a1abfd",
   "metadata": {},
   "source": [
    "Get the URL to access the API"
   ]
  },
  {
   "cell_type": "code",
   "execution_count": 2,
   "id": "1a426053-7d4b-461d-8174-90d2165edb83",
   "metadata": {},
   "outputs": [],
   "source": [
    "url = 'https://mhw-db.com/monsters'"
   ]
  },
  {
   "cell_type": "markdown",
   "id": "caff4076-d69b-4621-a0c7-83fc34e92d7d",
   "metadata": {},
   "source": [
    "Retrieve results and assign them to the data variable"
   ]
  },
  {
   "cell_type": "code",
   "execution_count": 3,
   "id": "f0e6172d-8e3f-4ab3-98f5-a23e8c16b26a",
   "metadata": {},
   "outputs": [],
   "source": [
    "data = requests.get(url).json()"
   ]
  },
  {
   "cell_type": "markdown",
   "id": "f1fa279a-2df5-4781-9eed-5d7c61ba4861",
   "metadata": {},
   "source": [
    "Create a dataframe \"df\" and normalize the 'locations' data"
   ]
  },
  {
   "cell_type": "code",
   "execution_count": 4,
   "id": "90319c74-a1f0-43d0-a10b-d79745b88dfc",
   "metadata": {},
   "outputs": [
    {
     "data": {
      "text/html": [
       "<div>\n",
       "<style scoped>\n",
       "    .dataframe tbody tr th:only-of-type {\n",
       "        vertical-align: middle;\n",
       "    }\n",
       "\n",
       "    .dataframe tbody tr th {\n",
       "        vertical-align: top;\n",
       "    }\n",
       "\n",
       "    .dataframe thead th {\n",
       "        text-align: right;\n",
       "    }\n",
       "</style>\n",
       "<table border=\"1\" class=\"dataframe\">\n",
       "  <thead>\n",
       "    <tr style=\"text-align: right;\">\n",
       "      <th></th>\n",
       "      <th>location_id</th>\n",
       "      <th>location_zoneCount</th>\n",
       "      <th>location_name</th>\n",
       "      <th>name</th>\n",
       "      <th>type</th>\n",
       "      <th>species</th>\n",
       "    </tr>\n",
       "  </thead>\n",
       "  <tbody>\n",
       "    <tr>\n",
       "      <th>0</th>\n",
       "      <td>1</td>\n",
       "      <td>17</td>\n",
       "      <td>Ancient Forest</td>\n",
       "      <td>Aptonoth</td>\n",
       "      <td>small</td>\n",
       "      <td>herbivore</td>\n",
       "    </tr>\n",
       "    <tr>\n",
       "      <th>1</th>\n",
       "      <td>1</td>\n",
       "      <td>17</td>\n",
       "      <td>Ancient Forest</td>\n",
       "      <td>Jagras</td>\n",
       "      <td>small</td>\n",
       "      <td>fanged wyvern</td>\n",
       "    </tr>\n",
       "    <tr>\n",
       "      <th>2</th>\n",
       "      <td>1</td>\n",
       "      <td>17</td>\n",
       "      <td>Ancient Forest</td>\n",
       "      <td>Mernos</td>\n",
       "      <td>small</td>\n",
       "      <td>wingdrake</td>\n",
       "    </tr>\n",
       "    <tr>\n",
       "      <th>3</th>\n",
       "      <td>3</td>\n",
       "      <td>15</td>\n",
       "      <td>Wildspire Waste</td>\n",
       "      <td>Mernos</td>\n",
       "      <td>small</td>\n",
       "      <td>wingdrake</td>\n",
       "    </tr>\n",
       "    <tr>\n",
       "      <th>4</th>\n",
       "      <td>1</td>\n",
       "      <td>17</td>\n",
       "      <td>Ancient Forest</td>\n",
       "      <td>Vespoid</td>\n",
       "      <td>small</td>\n",
       "      <td>neopteron</td>\n",
       "    </tr>\n",
       "  </tbody>\n",
       "</table>\n",
       "</div>"
      ],
      "text/plain": [
       "   location_id  location_zoneCount    location_name      name   type  \\\n",
       "0            1                  17   Ancient Forest  Aptonoth  small   \n",
       "1            1                  17   Ancient Forest    Jagras  small   \n",
       "2            1                  17   Ancient Forest    Mernos  small   \n",
       "3            3                  15  Wildspire Waste    Mernos  small   \n",
       "4            1                  17   Ancient Forest   Vespoid  small   \n",
       "\n",
       "         species  \n",
       "0      herbivore  \n",
       "1  fanged wyvern  \n",
       "2      wingdrake  \n",
       "3      wingdrake  \n",
       "4      neopteron  "
      ]
     },
     "execution_count": 4,
     "metadata": {},
     "output_type": "execute_result"
    }
   ],
   "source": [
    "df = pd.json_normalize(data, record_path=['locations'], meta=['name','type','species'], record_prefix='location_')\n",
    "\n",
    "df.head()"
   ]
  },
  {
   "cell_type": "markdown",
   "id": "aaed59ab-cd5a-409f-bab8-b6f912c2beb9",
   "metadata": {},
   "source": [
    "Change the order of columns for better comprehension."
   ]
  },
  {
   "cell_type": "code",
   "execution_count": 5,
   "id": "750b6acd-b4a4-47c6-8197-ba15241487e5",
   "metadata": {},
   "outputs": [
    {
     "data": {
      "text/html": [
       "<div>\n",
       "<style scoped>\n",
       "    .dataframe tbody tr th:only-of-type {\n",
       "        vertical-align: middle;\n",
       "    }\n",
       "\n",
       "    .dataframe tbody tr th {\n",
       "        vertical-align: top;\n",
       "    }\n",
       "\n",
       "    .dataframe thead th {\n",
       "        text-align: right;\n",
       "    }\n",
       "</style>\n",
       "<table border=\"1\" class=\"dataframe\">\n",
       "  <thead>\n",
       "    <tr style=\"text-align: right;\">\n",
       "      <th></th>\n",
       "      <th>name</th>\n",
       "      <th>species</th>\n",
       "      <th>type</th>\n",
       "      <th>location_name</th>\n",
       "      <th>location_zoneCount</th>\n",
       "    </tr>\n",
       "  </thead>\n",
       "  <tbody>\n",
       "    <tr>\n",
       "      <th>0</th>\n",
       "      <td>Aptonoth</td>\n",
       "      <td>herbivore</td>\n",
       "      <td>small</td>\n",
       "      <td>Ancient Forest</td>\n",
       "      <td>17</td>\n",
       "    </tr>\n",
       "    <tr>\n",
       "      <th>1</th>\n",
       "      <td>Jagras</td>\n",
       "      <td>fanged wyvern</td>\n",
       "      <td>small</td>\n",
       "      <td>Ancient Forest</td>\n",
       "      <td>17</td>\n",
       "    </tr>\n",
       "    <tr>\n",
       "      <th>2</th>\n",
       "      <td>Mernos</td>\n",
       "      <td>wingdrake</td>\n",
       "      <td>small</td>\n",
       "      <td>Ancient Forest</td>\n",
       "      <td>17</td>\n",
       "    </tr>\n",
       "    <tr>\n",
       "      <th>3</th>\n",
       "      <td>Mernos</td>\n",
       "      <td>wingdrake</td>\n",
       "      <td>small</td>\n",
       "      <td>Wildspire Waste</td>\n",
       "      <td>15</td>\n",
       "    </tr>\n",
       "    <tr>\n",
       "      <th>4</th>\n",
       "      <td>Vespoid</td>\n",
       "      <td>neopteron</td>\n",
       "      <td>small</td>\n",
       "      <td>Ancient Forest</td>\n",
       "      <td>17</td>\n",
       "    </tr>\n",
       "  </tbody>\n",
       "</table>\n",
       "</div>"
      ],
      "text/plain": [
       "       name        species   type    location_name  location_zoneCount\n",
       "0  Aptonoth      herbivore  small   Ancient Forest                  17\n",
       "1    Jagras  fanged wyvern  small   Ancient Forest                  17\n",
       "2    Mernos      wingdrake  small   Ancient Forest                  17\n",
       "3    Mernos      wingdrake  small  Wildspire Waste                  15\n",
       "4   Vespoid      neopteron  small   Ancient Forest                  17"
      ]
     },
     "execution_count": 5,
     "metadata": {},
     "output_type": "execute_result"
    }
   ],
   "source": [
    "df = df[['name', 'species', 'type', 'location_name', 'location_zoneCount']]\n",
    "\n",
    "df.head()"
   ]
  },
  {
   "cell_type": "markdown",
   "id": "d9eb4afe-8453-4cab-a877-5027deb6e0a1",
   "metadata": {},
   "source": [
    "Save the dataset to the csv file"
   ]
  },
  {
   "cell_type": "code",
   "execution_count": 7,
   "id": "09f01bc3-d35f-4db0-8dcb-9900e0d524fc",
   "metadata": {},
   "outputs": [],
   "source": [
    "df.to_csv('mhw_monsters.csv')"
   ]
  },
  {
   "cell_type": "markdown",
   "id": "8d5ed2e0-2cba-4d23-adfa-873a74abff31",
   "metadata": {},
   "source": [
    "Now let's create a visualization using plotly + Dash"
   ]
  },
  {
   "cell_type": "code",
   "execution_count": 6,
   "id": "8ba3322c-48da-483e-b66f-897999f4a47c",
   "metadata": {},
   "outputs": [],
   "source": [
    "# import libraries and packages\n",
    "from dash import Dash, dcc, html, Input, Output\n",
    "import plotly.express as px"
   ]
  },
  {
   "cell_type": "markdown",
   "id": "80f87d59-fc62-4ab2-aa6f-2951f21b92e6",
   "metadata": {},
   "source": [
    "Create a Dash app"
   ]
  },
  {
   "cell_type": "code",
   "execution_count": 7,
   "id": "b40bbc45-7ac0-459b-8b0a-8a11c728dc03",
   "metadata": {},
   "outputs": [],
   "source": [
    "app = Dash(__name__)"
   ]
  },
  {
   "cell_type": "markdown",
   "id": "ee466dff-42e3-425b-acd6-45e964f8ff95",
   "metadata": {},
   "source": [
    "Aggregate data in the dataframe to see both total counts and categories"
   ]
  },
  {
   "cell_type": "code",
   "execution_count": 8,
   "id": "a13f695c-ee9f-4645-b8a3-18d43b836939",
   "metadata": {},
   "outputs": [],
   "source": [
    "agg_df = df.groupby(['location_name', 'type']).agg({'location_zoneCount': 'sum'}).reset_index()\n",
    "total_counts = agg_df.groupby('location_name')['location_zoneCount'].sum().sort_values(ascending=False)\n",
    "agg_df['location_name'] = pd.Categorical(agg_df['location_name'], categories=total_counts.index, ordered=True)\n",
    "agg_df = agg_df.sort_values('location_name', ascending=False)\n",
    "\n",
    "total_df = df.groupby('species')['location_zoneCount'].sum().reset_index()"
   ]
  },
  {
   "cell_type": "markdown",
   "id": "ff47529b-4a28-4a7c-ad88-2276c45a4d31",
   "metadata": {},
   "source": [
    "Add figure"
   ]
  },
  {
   "cell_type": "code",
   "execution_count": 9,
   "id": "fe50eba7-f9c1-4624-b054-48fbf121ecec",
   "metadata": {},
   "outputs": [],
   "source": [
    "fig = px.bar(\n",
    "    agg_df,\n",
    "    x='location_zoneCount',\n",
    "    y='location_name',\n",
    "    color='type',\n",
    "    orientation='h',\n",
    "    title='Monsters by Location and Type',\n",
    "    custom_data=['type']\n",
    ")"
   ]
  },
  {
   "cell_type": "markdown",
   "id": "873a5e66-5ec6-4a56-87ad-9614f720044a",
   "metadata": {},
   "source": [
    "Set up layout"
   ]
  },
  {
   "cell_type": "code",
   "execution_count": 10,
   "id": "f4f56a7c-dced-4960-adfb-a792f57f1c6a",
   "metadata": {},
   "outputs": [],
   "source": [
    "app.layout = html.Div([\n",
    "    dcc.Graph(id='bar-chart', figure=fig),\n",
    "    dcc.Graph(id='pie-chart')\n",
    "])"
   ]
  },
  {
   "cell_type": "markdown",
   "id": "309440e4-3983-4b1f-8686-79f2eb01cdc7",
   "metadata": {},
   "source": [
    "Add the callback for interactivity"
   ]
  },
  {
   "cell_type": "code",
   "execution_count": 11,
   "id": "ce4004b4-8d08-4dbc-b34d-18822436f286",
   "metadata": {},
   "outputs": [],
   "source": [
    "@app.callback(\n",
    "    Output('pie-chart', 'figure'),\n",
    "    Input('bar-chart', 'clickData')\n",
    ")\n",
    "def update_pie_chart(clickData):\n",
    "    if clickData:\n",
    "        location = clickData['points'][0]['y']\n",
    "        animal_type = clickData['points'][0]['customdata'][0]  # Use customdata to get the type\n",
    "        filtered_df = df[(df['location_name'] == location) & (df['type'] == animal_type)]\n",
    "        pie_fig = px.pie(\n",
    "            filtered_df,\n",
    "            names='species',\n",
    "            title=f'Species Distribution in {location} ({animal_type})'\n",
    "        )\n",
    "        return pie_fig\n",
    "    return {}"
   ]
  },
  {
   "cell_type": "markdown",
   "id": "77368389-0f08-464a-99c4-fc27e8023eb1",
   "metadata": {},
   "source": [
    "Run the visualization"
   ]
  },
  {
   "cell_type": "code",
   "execution_count": 12,
   "id": "6683e15e-8cf1-4d81-8b42-d13a12aaf6a7",
   "metadata": {},
   "outputs": [
    {
     "data": {
      "text/html": [
       "\n",
       "        <iframe\n",
       "            width=\"100%\"\n",
       "            height=\"650\"\n",
       "            src=\"http://127.0.0.1:8050/\"\n",
       "            frameborder=\"0\"\n",
       "            allowfullscreen\n",
       "            \n",
       "        ></iframe>\n",
       "        "
      ],
      "text/plain": [
       "<IPython.lib.display.IFrame at 0x2b123ab1c70>"
      ]
     },
     "metadata": {},
     "output_type": "display_data"
    }
   ],
   "source": [
    "if __name__ == '__main__':\n",
    "    app.run_server(debug=True)"
   ]
  },
  {
   "cell_type": "code",
   "execution_count": null,
   "id": "5b8627e1-f7da-4c0a-bc09-c6b4c0fd80db",
   "metadata": {},
   "outputs": [],
   "source": []
  }
 ],
 "metadata": {
  "kernelspec": {
   "display_name": "Python 3 (ipykernel)",
   "language": "python",
   "name": "python3"
  },
  "language_info": {
   "codemirror_mode": {
    "name": "ipython",
    "version": 3
   },
   "file_extension": ".py",
   "mimetype": "text/x-python",
   "name": "python",
   "nbconvert_exporter": "python",
   "pygments_lexer": "ipython3",
   "version": "3.12.2"
  }
 },
 "nbformat": 4,
 "nbformat_minor": 5
}
